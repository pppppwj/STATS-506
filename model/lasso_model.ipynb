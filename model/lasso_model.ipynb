{
 "cells": [
  {
   "cell_type": "code",
   "execution_count": 1,
   "metadata": {},
   "outputs": [],
   "source": [
    "#model part \n",
    "#read the data\n",
    "import pandas as pd\n",
    "data = pd.read_csv(\"/Users/weijiepan/Desktop/506_project_weight.csv\")\n",
    "data = data.drop([\"Unnamed: 0\"],axis=1)"
   ]
  },
  {
   "cell_type": "code",
   "execution_count": 2,
   "metadata": {},
   "outputs": [],
   "source": [
    "#create intecept terms\n",
    "\n",
    "colnames=[\"iron\",\"calcium\",\"zine\",\"sodium\",\"VE\",\"VA\",\"alcohol\",\"VC\",\n",
    "     \"fat\",\"dietary fiber\",\"sugar\",\"carbohydrate\",\"energy\",\"protein\"]\n",
    "for i in colnames:\n",
    "    data[i+\"_ins\"] = data[i]*data[\"insurance\"]"
   ]
  },
  {
   "cell_type": "code",
   "execution_count": 3,
   "metadata": {},
   "outputs": [],
   "source": [
    "#divide it into X(preditors) y(result)\n",
    "X = data.drop([\"id\",\"diabetes\",\"insurance\"],axis=1)\n",
    "y = data[\"diabetes\"]"
   ]
  },
  {
   "cell_type": "code",
   "execution_count": 4,
   "metadata": {},
   "outputs": [],
   "source": [
    "#deal with categorical features\n",
    "#age, gender, income, insurance\n",
    "gender = pd.get_dummies(X['gender'],drop_first=True)\n",
    "gender.columns=[\"gender\"+str(i) for i in gender.columns]\n",
    "\n",
    "age = pd.get_dummies(X['age'],drop_first=True)\n",
    "age.columns=[\"age\"+str(i) for i in age.columns]\n",
    "\n",
    "income = pd.get_dummies(X['income'],drop_first=True)\n",
    "income.columns=[\"income\"+str(i) for i in income.columns]\n",
    "\n",
    "X.drop(['gender','age','income'],axis=1,inplace=True)\n",
    "\n",
    "X = pd.concat([X,gender,age,income],axis=1)"
   ]
  },
  {
   "cell_type": "code",
   "execution_count": 5,
   "metadata": {},
   "outputs": [],
   "source": [
    "#split it into training set and test set\n",
    "from sklearn import model_selection\n",
    "X_train, X_test, y_train, y_test = model_selection.train_test_split(X, y, \n",
    "                                                                    test_size=0.3,\n",
    "                                                                    random_state=42,\n",
    "                                                                    stratify=y)"
   ]
  },
  {
   "cell_type": "code",
   "execution_count": 6,
   "metadata": {},
   "outputs": [
    {
     "name": "stderr",
     "output_type": "stream",
     "text": [
      "/Users/weijiepan/anaconda3/lib/python3.7/site-packages/sklearn/linear_model/sag.py:337: ConvergenceWarning: The max_iter was reached which means the coef_ did not converge\n",
      "  \"the coef_ did not converge\", ConvergenceWarning)\n",
      "/Users/weijiepan/anaconda3/lib/python3.7/site-packages/sklearn/linear_model/sag.py:337: ConvergenceWarning: The max_iter was reached which means the coef_ did not converge\n",
      "  \"the coef_ did not converge\", ConvergenceWarning)\n",
      "/Users/weijiepan/anaconda3/lib/python3.7/site-packages/sklearn/linear_model/sag.py:337: ConvergenceWarning: The max_iter was reached which means the coef_ did not converge\n",
      "  \"the coef_ did not converge\", ConvergenceWarning)\n",
      "/Users/weijiepan/anaconda3/lib/python3.7/site-packages/sklearn/linear_model/sag.py:337: ConvergenceWarning: The max_iter was reached which means the coef_ did not converge\n",
      "  \"the coef_ did not converge\", ConvergenceWarning)\n",
      "/Users/weijiepan/anaconda3/lib/python3.7/site-packages/sklearn/linear_model/sag.py:337: ConvergenceWarning: The max_iter was reached which means the coef_ did not converge\n",
      "  \"the coef_ did not converge\", ConvergenceWarning)\n",
      "/Users/weijiepan/anaconda3/lib/python3.7/site-packages/sklearn/linear_model/sag.py:337: ConvergenceWarning: The max_iter was reached which means the coef_ did not converge\n",
      "  \"the coef_ did not converge\", ConvergenceWarning)\n",
      "/Users/weijiepan/anaconda3/lib/python3.7/site-packages/sklearn/linear_model/sag.py:337: ConvergenceWarning: The max_iter was reached which means the coef_ did not converge\n",
      "  \"the coef_ did not converge\", ConvergenceWarning)\n",
      "/Users/weijiepan/anaconda3/lib/python3.7/site-packages/sklearn/linear_model/sag.py:337: ConvergenceWarning: The max_iter was reached which means the coef_ did not converge\n",
      "  \"the coef_ did not converge\", ConvergenceWarning)\n",
      "/Users/weijiepan/anaconda3/lib/python3.7/site-packages/sklearn/linear_model/sag.py:337: ConvergenceWarning: The max_iter was reached which means the coef_ did not converge\n",
      "  \"the coef_ did not converge\", ConvergenceWarning)\n"
     ]
    },
    {
     "data": {
      "text/plain": [
       "LogisticRegressionCV(Cs=10, class_weight='balanced', cv=10, dual=False,\n",
       "                     fit_intercept=True, intercept_scaling=1.0, l1_ratios=None,\n",
       "                     max_iter=1000, multi_class='warn', n_jobs=None,\n",
       "                     penalty='l1', random_state=None, refit=True,\n",
       "                     scoring='roc_auc', solver='saga', tol=0.0001, verbose=0)"
      ]
     },
     "execution_count": 6,
     "metadata": {},
     "output_type": "execute_result"
    }
   ],
   "source": [
    "#build the model\n",
    "from sklearn.metrics import accuracy_score \n",
    "import numpy as np\n",
    "from sklearn.metrics import roc_auc_score\n",
    "from sklearn.linear_model import LogisticRegressionCV\n",
    "from sklearn.model_selection import cross_val_score\n",
    "\n",
    "model = LogisticRegressionCV(penalty='l1',scoring='roc_auc',solver=\"saga\",\n",
    "                             cv=10,class_weight=\"balanced\",max_iter=1000)\n",
    "model.fit(X_train,y_train)"
   ]
  },
  {
   "cell_type": "code",
   "execution_count": 21,
   "metadata": {},
   "outputs": [],
   "source": [
    "import matplotlib as plt"
   ]
  },
  {
   "cell_type": "code",
   "execution_count": 24,
   "metadata": {},
   "outputs": [
    {
     "data": {
      "text/plain": [
       "<matplotlib.axes._subplots.AxesSubplot at 0x1a260d9550>"
      ]
     },
     "execution_count": 24,
     "metadata": {},
     "output_type": "execute_result"
    },
    {
     "data": {
      "image/png": "[encoded data removed]",
      "text/plain": [
       "<Figure size 576x720 with 1 Axes>"
      ]
     },
     "metadata": {
      "needs_background": "light"
     },
     "output_type": "display_data"
    }
   ],
   "source": [
    "#display the coef \n",
    "coef = pd.Series(model.coef_[0,:], index = X_train.columns)\n",
    "plt.rcParams['figure.figsize'] = (8.0, 10.0)\n",
    "coef.plot(kind = \"barh\")"
   ]
  },
  {
   "cell_type": "code",
   "execution_count": 25,
   "metadata": {},
   "outputs": [
    {
     "data": {
      "text/plain": [
       "iron                 0.000000\n",
       "calcium             -0.034681\n",
       "zine                -0.064689\n",
       "sodium               0.012555\n",
       "VE                   0.000000\n",
       "VA                  -0.016067\n",
       "alcohol             -0.041758\n",
       "VC                   0.000000\n",
       "fat                  0.032824\n",
       "dietary fiber        0.000000\n",
       "sugar               -0.332166\n",
       "carbohydrate         0.000000\n",
       "energy               0.000000\n",
       "protein              0.000000\n",
       "surveyday            0.000000\n",
       "iron_ins             0.068384\n",
       "calcium_ins          0.000000\n",
       "zine_ins             0.000000\n",
       "sodium_ins           0.172625\n",
       "VE_ins              -0.053086\n",
       "VA_ins               0.000000\n",
       "alcohol_ins         -0.024737\n",
       "VC_ins               0.000000\n",
       "fat_ins              0.070475\n",
       "dietary fiber_ins    0.000000\n",
       "sugar_ins           -0.004278\n",
       "carbohydrate_ins     0.000000\n",
       "energy_ins           0.000000\n",
       "protein_ins          0.000000\n",
       "gender2.0           -0.125900\n",
       "age2.0              -0.382535\n",
       "age3.0               1.468714\n",
       "age4.0               3.062177\n",
       "age5.0               3.906521\n",
       "income2.0            0.002173\n",
       "income3.0            0.129166\n",
       "income4.0            0.000000\n",
       "income5.0            0.000000\n",
       "income6.0           -0.212340\n",
       "income7.0           -0.030481\n",
       "income8.0            0.000000\n",
       "income9.0            0.000000\n",
       "income10.0           0.000000\n",
       "income12.0          -0.081483\n",
       "income13.0          -0.381851\n",
       "dtype: float64"
      ]
     },
     "execution_count": 25,
     "metadata": {},
     "output_type": "execute_result"
    }
   ],
   "source": [
    "coef"
   ]
  },
  {
   "cell_type": "code",
   "execution_count": 26,
   "metadata": {},
   "outputs": [
    {
     "data": {
      "text/plain": [
       "0.78718699853783"
      ]
     },
     "execution_count": 26,
     "metadata": {},
     "output_type": "execute_result"
    }
   ],
   "source": [
    "roc_auc_score(y_test,model.predict(X_test))"
   ]
  },
  {
   "cell_type": "code",
   "execution_count": 27,
   "metadata": {
    "scrolled": true
   },
   "outputs": [
    {
     "name": "stderr",
     "output_type": "stream",
     "text": [
      "/Users/weijiepan/anaconda3/lib/python3.7/site-packages/sklearn/linear_model/logistic.py:2260: ChangedBehaviorWarning: The long-standing behavior to use the accuracy score has changed. The scoring parameter is now used. This warning will disappear in version 0.22.\n",
      "  ChangedBehaviorWarning)\n"
     ]
    },
    {
     "data": {
      "text/plain": [
       "0.8479063193231119"
      ]
     },
     "execution_count": 27,
     "metadata": {},
     "output_type": "execute_result"
    }
   ],
   "source": [
    "model.score(X_test,y_test)"
   ]
  },
  {
   "cell_type": "code",
   "execution_count": null,
   "metadata": {},
   "outputs": [],
   "source": []
  }
 ],
 "metadata": {
  "kernelspec": {
   "display_name": "Python 3",
   "language": "python",
   "name": "python3"
  },
  "language_info": {
   "codemirror_mode": {
    "name": "ipython",
    "version": 3
   },
   "file_extension": ".py",
   "mimetype": "text/x-python",
   "name": "python",
   "nbconvert_exporter": "python",
   "pygments_lexer": "ipython3",
   "version": "3.7.4"
  }
 },
 "nbformat": 4,
 "nbformat_minor": 2
}
